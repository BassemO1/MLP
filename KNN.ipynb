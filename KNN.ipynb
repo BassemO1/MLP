{
  "nbformat": 4,
  "nbformat_minor": 0,
  "metadata": {
    "colab": {
      "provenance": []
    },
    "kernelspec": {
      "name": "python3",
      "display_name": "Python 3"
    },
    "language_info": {
      "name": "python"
    }
  },
  "cells": [
    {
      "cell_type": "code",
      "execution_count": 3,
      "metadata": {
        "colab": {
          "base_uri": "https://localhost:8080/"
        },
        "id": "SVc8cHEPjNx7",
        "outputId": "6e20df54-f2dc-41d4-870f-94db6a7517cc"
      },
      "outputs": [
        {
          "output_type": "stream",
          "name": "stdout",
          "text": [
            "accuracy 1.0\n",
            "recall: 1.0\n",
            "precision: 1.0\n",
            "f_score: 1.0\n"
          ]
        }
      ],
      "source": [
        "import numpy as np\n",
        "import pandas as pd\n",
        "from sklearn import datasets\n",
        "from sklearn.neighbors import KNeighborsClassifier\n",
        "from sklearn.model_selection import train_test_split\n",
        "import matplotlib.pyplot as plt\n",
        "from sklearn.preprocessing import LabelEncoder\n",
        "from sklearn.metrics import recall_score\n",
        "from sklearn.metrics import precision_score\n",
        "\n",
        "df = pd.read_csv(\"mush_num.csv\")\n",
        "\n",
        "y = df['class']\n",
        "x = df.drop('class',axis=1)\n",
        "\n",
        "X_train, X_test, y_train, y_test = train_test_split(x, y, test_size=0.2, random_state=1234)\n",
        "\n",
        "clf = KNeighborsClassifier()\n",
        "clf.fit(X_train, y_train)\n",
        "predictions = clf.predict(X_test)\n",
        "\n",
        "acc = np.sum(predictions == y_test) / len(y_test)\n",
        "print(\"accuracy\",acc)\n",
        "\n",
        "recall = recall_score(y_test, predictions)\n",
        "perc = precision_score(y_test, predictions)\n",
        "fi= 2*(recall*perc)/(recall+perc)\n",
        "\n",
        "print(\"recall:\", recall)\n",
        "print(\"precision:\", perc)\n",
        "print(\"f_score:\", fi)"
      ]
    }
  ]
}