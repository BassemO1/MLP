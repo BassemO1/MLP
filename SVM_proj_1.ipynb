{
  "nbformat": 4,
  "nbformat_minor": 0,
  "metadata": {
    "colab": {
      "provenance": []
    },
    "kernelspec": {
      "name": "python3",
      "display_name": "Python 3"
    },
    "language_info": {
      "name": "python"
    }
  },
  "cells": [
    {
      "cell_type": "code",
      "source": [
        "import numpy as np\n",
        "from sklearn.model_selection import train_test_split\n",
        "from sklearn import svm\n",
        "from sklearn.preprocessing import LabelEncoder\n",
        "import pandas as pd\n",
        "from sklearn.metrics import recall_score\n",
        "from sklearn.metrics import precision_score\n",
        "\n",
        "df = pd.read_csv(\"mushrooms.csv\")\n",
        "\n",
        "# create instance of label encoder\n",
        "le_dict = {col: LabelEncoder() for col in df}\n",
        "for col in df:\n",
        "    df[col] = le_dict[col].fit_transform(df[col])\n",
        "\n",
        "y = df['class']\n",
        "x = df.drop('class',axis=1)\n",
        "\n",
        "X_train, X_test, y_train, y_test = train_test_split(x, y, test_size=0.2, random_state=1234)\n",
        "cls = svm.SVC()\n",
        "cls.fit(X_train,y_train)\n",
        "predictions = cls.predict(X_test)\n",
        "\n",
        "def accuracy(y_true, y_pred):\n",
        "        accuracy = np.sum(y_true == y_pred) / len(y_true)\n",
        "        return accuracy\n",
        "\n",
        "print(\" accuracy\", accuracy(y_test, predictions))\n",
        "\n",
        "recall = recall_score(y_test, predictions)\n",
        "perc = precision_score(y_test, predictions)\n",
        "fi= 2*(recall*perc)/(recall+perc)\n",
        "print(\"recall:\", recall)\n",
        "print(\"precision:\", perc)\n",
        "print(\"f_score:\", fi)"
      ],
      "metadata": {
        "id": "GM7WHrad5KnG"
      },
      "execution_count": null,
      "outputs": []
    }
  ]
}